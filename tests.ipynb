{
 "cells": [
  {
   "cell_type": "code",
   "execution_count": null,
   "id": "dddf5970-f382-4812-8aff-e6a50f6e431e",
   "metadata": {},
   "outputs": [],
   "source": [
    "if 'google.colab' in str(get_ipython()):\n",
    "    from google.colab import drive\n",
    "    drive.mount('/content/drive')\n",
    "    %cd /content/drive/MyDrive/original_dreamer\n",
    "\n",
    "    !pip install --quiet -r requirements.txt\n",
    "    \n",
    "    #!python -m pip install ."
   ]
  },
  {
   "cell_type": "code",
   "execution_count": null,
   "id": "4172f15c-0b13-4f6e-bf17-6c87d34e7a4e",
   "metadata": {},
   "outputs": [],
   "source": [
    "!python3 dreamer.py --logdir ./logdir/coinrun/dreamer/1 --task procgen_coinrun"
   ]
  }
 ],
 "metadata": {
  "kernelspec": {
   "display_name": "Python 3",
   "language": "python",
   "name": "python3"
  },
  "language_info": {
   "codemirror_mode": {
    "name": "ipython",
    "version": 3
   },
   "file_extension": ".py",
   "mimetype": "text/x-python",
   "name": "python",
   "nbconvert_exporter": "python",
   "pygments_lexer": "ipython3",
   "version": "3.8.8"
  }
 },
 "nbformat": 4,
 "nbformat_minor": 5
}
